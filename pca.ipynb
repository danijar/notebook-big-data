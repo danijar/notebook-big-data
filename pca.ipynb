{
 "cells": [
  {
   "cell_type": "markdown",
   "metadata": {},
   "source": [
    "## Perform PCA and Project"
   ]
  },
  {
   "cell_type": "code",
   "execution_count": 311,
   "metadata": {
    "collapsed": false
   },
   "outputs": [],
   "source": [
    "%matplotlib inline\n",
    "\n",
    "import numpy as np\n",
    "import matplotlib.pyplot as plt\n",
    "\n",
    "def plot_direction(points, direction):\n",
    "    plt.scatter(points[:,0], points[:,1])\n",
    "    plt.xlim(points.min(axis=0)[0] - 1, points.max(axis=0)[0] + 1)\n",
    "    plt.ylim(points.min(axis=0)[1] - 1, points.max(axis=0)[1] + 1)\n",
    "    plt.plot([-100 * direction[0], 100 * direction[0]], [-100 * direction[1], 100 * direction[1]])\n",
    "    plt.axes().set_aspect('equal')"
   ]
  },
  {
   "cell_type": "code",
   "execution_count": 279,
   "metadata": {
    "collapsed": false
   },
   "outputs": [],
   "source": [
    "data = np.array([[2, 2], [3, 3], [3, 2], [4, 3], [5, 5]]).astype(float)"
   ]
  },
  {
   "cell_type": "code",
   "execution_count": 305,
   "metadata": {
    "collapsed": false
   },
   "outputs": [
    {
     "name": "stdout",
     "output_type": "stream",
     "text": [
      "Components:\n",
      " [[-0.73476024 -0.6783269 ]\n",
      " [ 0.6783269  -0.73476024]]\n",
      "Variance: [ 1.04  1.2 ]\n"
     ]
    },
    {
     "data": {
      "image/png": "[encoded data removed]",
      "text/plain": [
       "<matplotlib.figure.Figure at 0x7f85dedff7b8>"
      ]
     },
     "metadata": {},
     "output_type": "display_data"
    }
   ],
   "source": [
    "def pca(data):\n",
    "    shifted = data - np.mean(data, axis=0)[None, :]\n",
    "    assert np.allclose(np.mean(shifted), 0)\n",
    "    covariance = shifted.T.dot(shifted) / len(shifted)\n",
    "    eigenvalues, eigenvectors = np.linalg.eig(covariance)\n",
    "    components = eigenvectors[:,np.argsort(eigenvalues)]\n",
    "    return components\n",
    "\n",
    "print('Components:\\n', pca(data))\n",
    "print('Variance:', data.var(axis=0))\n",
    "plot_direction(data, pca(data)[0])"
   ]
  },
  {
   "cell_type": "code",
   "execution_count": 314,
   "metadata": {
    "collapsed": false
   },
   "outputs": [
    {
     "name": "stdout",
     "output_type": "stream",
     "text": [
      "Variance: [ 2.11043566  0.        ]\n"
     ]
    },
    {
     "data": {
      "image/png": "[encoded data removed]",
      "text/plain": [
       "<matplotlib.figure.Figure at 0x7f85df08f518>"
      ]
     },
     "metadata": {},
     "output_type": "display_data"
    }
   ],
   "source": [
    "def project(data, components):\n",
    "    projected = components.dot(data.T).T\n",
    "    projected[:,1] = 0\n",
    "    variance = (projected - projected.mean(axis=0)) ** 2\n",
    "    variance = variance.mean(axis=0)\n",
    "    projected = components.T.dot(projected.T).T\n",
    "    return projected, variance\n",
    "\n",
    "print('Variance:', project(data, pca(data))[1])\n",
    "plot_direction(project(data, pca(data))[0], pca(data)[0])"
   ]
  },
  {
   "cell_type": "markdown",
   "metadata": {},
   "source": [
    "## Compare PCA to Naive Reduction"
   ]
  },
  {
   "cell_type": "code",
   "execution_count": 313,
   "metadata": {
    "collapsed": false,
    "scrolled": true
   },
   "outputs": [
    {
     "name": "stdout",
     "output_type": "stream",
     "text": [
      "[ 1.04  0.  ]\n"
     ]
    },
    {
     "data": {
      "image/png": "[encoded data removed]",
      "text/plain": [
       "<matplotlib.figure.Figure at 0x7f85df101f28>"
      ]
     },
     "metadata": {},
     "output_type": "display_data"
    }
   ],
   "source": [
    "naive = data.copy()\n",
    "naive[:,1] = 0\n",
    "plot_direction(naive, [1, 0])\n",
    "\n",
    "variance = (naive - naive.mean(axis=0)) ** 2\n",
    "variance = variance.mean(axis=0)\n",
    "print(variance)"
   ]
  },
  {
   "cell_type": "markdown",
   "metadata": {},
   "source": [
    "We want to keep as much information, i.e. variance, in the data. Naive reduction is bad at that. PCA does the trick."
   ]
  },
  {
   "cell_type": "markdown",
   "metadata": {},
   "source": [
    "## Where PCA Fails\n",
    "\n",
    "Methods like PCA that assume a gaussian distribution, fail for non-gaussian distributions."
   ]
  },
  {
   "cell_type": "code",
   "execution_count": 307,
   "metadata": {
    "collapsed": false
   },
   "outputs": [
    {
     "name": "stdout",
     "output_type": "stream",
     "text": [
      "Components:\n",
      " [[-0.94360238 -0.33108087]\n",
      " [ 0.33108087 -0.94360238]]\n",
      "Variance: [ 25.74409071  26.46029454]\n"
     ]
    },
    {
     "data": {
      "image/png": "[encoded data removed]",
      "text/plain": [
       "<matplotlib.figure.Figure at 0x7f85df23dd30>"
      ]
     },
     "metadata": {},
     "output_type": "display_data"
    }
   ],
   "source": [
    "gaussian = np.random.normal(0, 1, (30, 2))\n",
    "offset = 5\n",
    "non_gaussian = np.concatenate((\n",
    "    gaussian + [+offset, +offset],\n",
    "    gaussian + [+offset, -offset],\n",
    "    gaussian + [-offset, +offset],\n",
    "    gaussian + [-offset, -offset],\n",
    "))\n",
    "\n",
    "print('Components:\\n', pca(non_gaussian))\n",
    "print('Variance:', non_gaussian.var(axis=0))\n",
    "plot_direction(non_gaussian, pca(non_gaussian)[0])"
   ]
  },
  {
   "cell_type": "code",
   "execution_count": 312,
   "metadata": {
    "collapsed": false
   },
   "outputs": [
    {
     "name": "stdout",
     "output_type": "stream",
     "text": [
      "Variance: [ 26.00165322   0.        ]\n"
     ]
    },
    {
     "data": {
      "image/png": "[encoded data removed]",
      "text/plain": [
       "<matplotlib.figure.Figure at 0x7f85df0ec898>"
      ]
     },
     "metadata": {},
     "output_type": "display_data"
    }
   ],
   "source": [
    "print('Variance:', project(non_gaussian, pca(non_gaussian))[1])\n",
    "plot_direction(project(non_gaussian, pca(non_gaussian))[0], pca(non_gaussian)[0])"
   ]
  },
  {
   "cell_type": "markdown",
   "metadata": {},
   "source": [
    "One solution would be to cluster the data with k-means into four clusters. Those are gaussian distributed and can be analyzed with PCA individually."
   ]
  }
 ],
 "metadata": {
  "kernelspec": {
   "display_name": "Python 3",
   "language": "python",
   "name": "python3"
  },
  "language_info": {
   "codemirror_mode": {
    "name": "ipython",
    "version": 3
   },
   "file_extension": ".py",
   "mimetype": "text/x-python",
   "name": "python",
   "nbconvert_exporter": "python",
   "pygments_lexer": "ipython3",
   "version": "3.5.0"
  }
 },
 "nbformat": 4,
 "nbformat_minor": 0
}
